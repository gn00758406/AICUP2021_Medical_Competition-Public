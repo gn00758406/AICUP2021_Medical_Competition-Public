{
 "cells": [
  {
   "cell_type": "code",
   "execution_count": 2,
   "metadata": {},
   "outputs": [],
   "source": [
    "import json\n",
    "with open(\"data/Test_QA.json\",encoding = 'utf-8') as f:\n",
    "    data = json.load(f)"
   ]
  },
  {
   "cell_type": "code",
   "execution_count": 3,
   "metadata": {},
   "outputs": [],
   "source": [
    "#將判斷何者為錯誤的問題改成判斷何者為正確\n",
    "question_list=[]\n",
    "tmp_list=[]\n",
    "for x in range(len(data)):\n",
    "    \n",
    "    tmp=data[x]['question']['stem']\n",
    "    \n",
    "    if \"有誤\" in tmp:\n",
    "        tmp=tmp.replace(\"有誤\",\"正確\")\n",
    "        tmp_list.append(x)\n",
    "        \n",
    "    if \"不是\" in tmp:\n",
    "        tmp=tmp.replace(\"不是\",\"是\")\n",
    "        tmp_list.append(x)\n",
    "        \n",
    "    if \"錯誤\" in tmp:\n",
    "        tmp=tmp.replace(\"錯誤\",\"正確\")\n",
    "        tmp_list.append(x)\n",
    "  \n",
    "    if \"不正確\" in tmp:\n",
    "        tmp=tmp.replace(\"不正確\",\"正確\")\n",
    "        tmp_list.append(x)\n",
    "    if \"不\" in tmp:\n",
    "        tmp=tmp.replace(\"不\",\"有\")\n",
    "        tmp_list.append(x)\n",
    "\n",
    "\n",
    "    question_list.append(tmp)"
   ]
  },
  {
   "cell_type": "code",
   "execution_count": 1,
   "metadata": {},
   "outputs": [
    {
     "name": "stdout",
     "output_type": "stream",
     "text": [
      "12921\n"
     ]
    }
   ],
   "source": [
    "##處理模型輸出\n",
    "logits=[]\n",
    "\n",
    "with open(\"input_data/logits_test.txt\",encoding = 'utf-8') as f2:\n",
    "    for line in f2.readlines():\n",
    "        line = line.strip()\n",
    "        s = line.split(' ')\n",
    "        \n",
    "        logits.append([float(i) for i in s])\n",
    "        \n",
    "for x in logits:\n",
    "    del x[3]\n",
    "import numpy as np\n",
    "logits = np.array(logits)\n",
    "print(len(logits))          "
   ]
  },
  {
   "cell_type": "code",
   "execution_count": 4,
   "metadata": {},
   "outputs": [],
   "source": [
    "predict_answer=[]\n",
    "for number in range(len(logits)):\n",
    "    if number in tmp_list:\n",
    "        predict_answer.append(np.argmin(logits[number]))\n",
    "    else:\n",
    "        predict_answer.append(np.argmax(logits[number]))\n",
    "        \n",
    "dict_one_hot_reverse = {0:\"A\",1:\"B\",2:\"C\"}\n",
    "for e in range(len(predict_answer)):\n",
    "    predict_answer[e]=dict_one_hot_reverse[predict_answer[e]]"
   ]
  },
  {
   "cell_type": "code",
   "execution_count": 5,
   "metadata": {},
   "outputs": [],
   "source": [
    "import pandas as pd\n",
    "new_df = pd.DataFrame(columns=[\"id\",\"answer\"])\n",
    "for i in range(len(data)):\n",
    "    new_df=new_df.append({\"id\":i+1,'answer':predict_answer[i]},ignore_index=True)"
   ]
  },
  {
   "cell_type": "code",
   "execution_count": 6,
   "metadata": {},
   "outputs": [],
   "source": [
    "##輸出最後csv\n",
    "new_df.to_csv('output/qa.csv',encoding='utf-8-sig',index=False)"
   ]
  }
 ],
 "metadata": {
  "interpreter": {
   "hash": "5b2c89975955c5b643717ce9387f9a5422d3ec0ed4a27a4b9581a8115dbb7d97"
  },
  "kernelspec": {
   "display_name": "Python 3.7.9 64-bit ('Solr': conda)",
   "name": "python3"
  },
  "language_info": {
   "codemirror_mode": {
    "name": "ipython",
    "version": 3
   },
   "file_extension": ".py",
   "mimetype": "text/x-python",
   "name": "python",
   "nbconvert_exporter": "python",
   "pygments_lexer": "ipython3",
   "version": "3.7.9"
  }
 },
 "nbformat": 4,
 "nbformat_minor": 2
}
